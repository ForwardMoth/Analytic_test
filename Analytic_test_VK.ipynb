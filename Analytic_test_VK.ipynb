{
 "cells": [
  {
   "cell_type": "code",
   "execution_count": 221,
   "id": "831b2758",
   "metadata": {},
   "outputs": [],
   "source": [
    "import pandas as pd"
   ]
  },
  {
   "cell_type": "code",
   "execution_count": 250,
   "id": "86026e72",
   "metadata": {},
   "outputs": [],
   "source": [
    "df = pd.read_excel('Analytic_test.xlsx')"
   ]
  },
  {
   "cell_type": "code",
   "execution_count": 251,
   "id": "e12738ad",
   "metadata": {},
   "outputs": [
    {
     "data": {
      "text/html": [
       "<div>\n",
       "<style scoped>\n",
       "    .dataframe tbody tr th:only-of-type {\n",
       "        vertical-align: middle;\n",
       "    }\n",
       "\n",
       "    .dataframe tbody tr th {\n",
       "        vertical-align: top;\n",
       "    }\n",
       "\n",
       "    .dataframe thead th {\n",
       "        text-align: right;\n",
       "    }\n",
       "</style>\n",
       "<table border=\"1\" class=\"dataframe\">\n",
       "  <thead>\n",
       "    <tr style=\"text-align: right;\">\n",
       "      <th></th>\n",
       "      <th>Unnamed: 0</th>\n",
       "      <th>Unnamed: 1</th>\n",
       "      <th>Unnamed: 2</th>\n",
       "      <th>Unnamed: 3</th>\n",
       "      <th>Unnamed: 4</th>\n",
       "      <th>Unnamed: 5</th>\n",
       "      <th>Unnamed: 6</th>\n",
       "      <th>Unnamed: 7</th>\n",
       "      <th>Unnamed: 8</th>\n",
       "      <th>Unnamed: 9</th>\n",
       "      <th>...</th>\n",
       "      <th>Unnamed: 15</th>\n",
       "      <th>Unnamed: 16</th>\n",
       "      <th>Unnamed: 17</th>\n",
       "      <th>Unnamed: 18</th>\n",
       "      <th>Unnamed: 19</th>\n",
       "      <th>Unnamed: 20</th>\n",
       "      <th>Unnamed: 21</th>\n",
       "      <th>Unnamed: 22</th>\n",
       "      <th>Unnamed: 23</th>\n",
       "      <th>Unnamed: 24</th>\n",
       "    </tr>\n",
       "  </thead>\n",
       "  <tbody>\n",
       "    <tr>\n",
       "      <th>0</th>\n",
       "      <td>NaN</td>\n",
       "      <td>HID</td>\n",
       "      <td>active_Red</td>\n",
       "      <td>has_Green_id</td>\n",
       "      <td>has_Black_id</td>\n",
       "      <td>has_Blue_id</td>\n",
       "      <td>Blue_activity_count</td>\n",
       "      <td>Blue_gmv_total</td>\n",
       "      <td>Green_gvm_total</td>\n",
       "      <td>Green_gvm_order_count</td>\n",
       "      <td>...</td>\n",
       "      <td>Blue_android</td>\n",
       "      <td>Red_apple</td>\n",
       "      <td>Green_apple</td>\n",
       "      <td>Black_apple</td>\n",
       "      <td>Blue_apple</td>\n",
       "      <td>is_msk</td>\n",
       "      <td>Red_web</td>\n",
       "      <td>Green_web</td>\n",
       "      <td>Black_web</td>\n",
       "      <td>Blue_web</td>\n",
       "    </tr>\n",
       "    <tr>\n",
       "      <th>1</th>\n",
       "      <td>0.0</td>\n",
       "      <td>00003c7fb5e57ce673f1801f3679f5c25</td>\n",
       "      <td>0.0</td>\n",
       "      <td>0.0</td>\n",
       "      <td>0.0</td>\n",
       "      <td>1.0</td>\n",
       "      <td>2.0</td>\n",
       "      <td>0.0</td>\n",
       "      <td>0.0</td>\n",
       "      <td>0.0</td>\n",
       "      <td>...</td>\n",
       "      <td>0.0</td>\n",
       "      <td>0.0</td>\n",
       "      <td>0.0</td>\n",
       "      <td>0.0</td>\n",
       "      <td>0.0</td>\n",
       "      <td>0.0</td>\n",
       "      <td>0.0</td>\n",
       "      <td>0.0</td>\n",
       "      <td>0.0</td>\n",
       "      <td>0.0</td>\n",
       "    </tr>\n",
       "    <tr>\n",
       "      <th>2</th>\n",
       "      <td>1.0</td>\n",
       "      <td>00006b602533083e3bebfcbff08613931</td>\n",
       "      <td>1.0</td>\n",
       "      <td>0.0</td>\n",
       "      <td>0.0</td>\n",
       "      <td>0.0</td>\n",
       "      <td>0.0</td>\n",
       "      <td>0.0</td>\n",
       "      <td>0.0</td>\n",
       "      <td>0.0</td>\n",
       "      <td>...</td>\n",
       "      <td>0.0</td>\n",
       "      <td>0.0</td>\n",
       "      <td>0.0</td>\n",
       "      <td>0.0</td>\n",
       "      <td>0.0</td>\n",
       "      <td>0.0</td>\n",
       "      <td>1.0</td>\n",
       "      <td>0.0</td>\n",
       "      <td>0.0</td>\n",
       "      <td>0.0</td>\n",
       "    </tr>\n",
       "    <tr>\n",
       "      <th>3</th>\n",
       "      <td>2.0</td>\n",
       "      <td>0000736c3f76339196cb1cc759b8363b</td>\n",
       "      <td>1.0</td>\n",
       "      <td>0.0</td>\n",
       "      <td>0.0</td>\n",
       "      <td>0.0</td>\n",
       "      <td>0.0</td>\n",
       "      <td>0.0</td>\n",
       "      <td>0.0</td>\n",
       "      <td>0.0</td>\n",
       "      <td>...</td>\n",
       "      <td>0.0</td>\n",
       "      <td>1.0</td>\n",
       "      <td>0.0</td>\n",
       "      <td>1.0</td>\n",
       "      <td>0.0</td>\n",
       "      <td>0.0</td>\n",
       "      <td>0.0</td>\n",
       "      <td>0.0</td>\n",
       "      <td>0.0</td>\n",
       "      <td>0.0</td>\n",
       "    </tr>\n",
       "    <tr>\n",
       "      <th>4</th>\n",
       "      <td>3.0</td>\n",
       "      <td>00009bdcc5307b38efde8690b8bd658e</td>\n",
       "      <td>0.0</td>\n",
       "      <td>0.0</td>\n",
       "      <td>0.0</td>\n",
       "      <td>0.0</td>\n",
       "      <td>0.0</td>\n",
       "      <td>0.0</td>\n",
       "      <td>0.0</td>\n",
       "      <td>0.0</td>\n",
       "      <td>...</td>\n",
       "      <td>0.0</td>\n",
       "      <td>0.0</td>\n",
       "      <td>0.0</td>\n",
       "      <td>0.0</td>\n",
       "      <td>0.0</td>\n",
       "      <td>0.0</td>\n",
       "      <td>1.0</td>\n",
       "      <td>0.0</td>\n",
       "      <td>0.0</td>\n",
       "      <td>0.0</td>\n",
       "    </tr>\n",
       "  </tbody>\n",
       "</table>\n",
       "<p>5 rows × 25 columns</p>\n",
       "</div>"
      ],
      "text/plain": [
       "   Unnamed: 0                         Unnamed: 1  Unnamed: 2    Unnamed: 3  \\\n",
       "0         NaN                                HID  active_Red  has_Green_id   \n",
       "1         0.0  00003c7fb5e57ce673f1801f3679f5c25         0.0           0.0   \n",
       "2         1.0  00006b602533083e3bebfcbff08613931         1.0           0.0   \n",
       "3         2.0   0000736c3f76339196cb1cc759b8363b         1.0           0.0   \n",
       "4         3.0   00009bdcc5307b38efde8690b8bd658e         0.0           0.0   \n",
       "\n",
       "     Unnamed: 4   Unnamed: 5           Unnamed: 6      Unnamed: 7  \\\n",
       "0  has_Black_id  has_Blue_id  Blue_activity_count  Blue_gmv_total   \n",
       "1           0.0          1.0                  2.0             0.0   \n",
       "2           0.0          0.0                  0.0             0.0   \n",
       "3           0.0          0.0                  0.0             0.0   \n",
       "4           0.0          0.0                  0.0             0.0   \n",
       "\n",
       "        Unnamed: 8             Unnamed: 9  ...   Unnamed: 15 Unnamed: 16  \\\n",
       "0  Green_gvm_total  Green_gvm_order_count  ...  Blue_android   Red_apple   \n",
       "1              0.0                    0.0  ...           0.0         0.0   \n",
       "2              0.0                    0.0  ...           0.0         0.0   \n",
       "3              0.0                    0.0  ...           0.0         1.0   \n",
       "4              0.0                    0.0  ...           0.0         0.0   \n",
       "\n",
       "   Unnamed: 17  Unnamed: 18 Unnamed: 19 Unnamed: 20 Unnamed: 21 Unnamed: 22  \\\n",
       "0  Green_apple  Black_apple  Blue_apple      is_msk     Red_web   Green_web   \n",
       "1          0.0          0.0         0.0         0.0         0.0         0.0   \n",
       "2          0.0          0.0         0.0         0.0         1.0         0.0   \n",
       "3          0.0          1.0         0.0         0.0         0.0         0.0   \n",
       "4          0.0          0.0         0.0         0.0         1.0         0.0   \n",
       "\n",
       "  Unnamed: 23 Unnamed: 24  \n",
       "0   Black_web    Blue_web  \n",
       "1         0.0         0.0  \n",
       "2         0.0         0.0  \n",
       "3         0.0         0.0  \n",
       "4         0.0         0.0  \n",
       "\n",
       "[5 rows x 25 columns]"
      ]
     },
     "execution_count": 251,
     "metadata": {},
     "output_type": "execute_result"
    }
   ],
   "source": [
    "df.head()"
   ]
  },
  {
   "cell_type": "markdown",
   "id": "730c4e3e",
   "metadata": {},
   "source": [
    "# Dataset cleaning"
   ]
  },
  {
   "cell_type": "markdown",
   "id": "17ec66a5",
   "metadata": {},
   "source": [
    "## Drop usless column"
   ]
  },
  {
   "cell_type": "code",
   "execution_count": 252,
   "id": "2e3a462b",
   "metadata": {},
   "outputs": [],
   "source": [
    "df.drop(df.columns[0], axis=1, inplace=True)"
   ]
  },
  {
   "cell_type": "markdown",
   "id": "0f657629",
   "metadata": {},
   "source": [
    "## Rename columns in dataset"
   ]
  },
  {
   "cell_type": "code",
   "execution_count": 253,
   "id": "c3900c6d",
   "metadata": {},
   "outputs": [],
   "source": [
    "df.rename(columns=df.iloc[0], inplace=True)"
   ]
  },
  {
   "cell_type": "code",
   "execution_count": 254,
   "id": "c28dde83",
   "metadata": {},
   "outputs": [],
   "source": [
    "df.drop(df.index[0], inplace=True)"
   ]
  },
  {
   "cell_type": "code",
   "execution_count": 255,
   "id": "21c7b95e",
   "metadata": {},
   "outputs": [
    {
     "data": {
      "text/html": [
       "<div>\n",
       "<style scoped>\n",
       "    .dataframe tbody tr th:only-of-type {\n",
       "        vertical-align: middle;\n",
       "    }\n",
       "\n",
       "    .dataframe tbody tr th {\n",
       "        vertical-align: top;\n",
       "    }\n",
       "\n",
       "    .dataframe thead th {\n",
       "        text-align: right;\n",
       "    }\n",
       "</style>\n",
       "<table border=\"1\" class=\"dataframe\">\n",
       "  <thead>\n",
       "    <tr style=\"text-align: right;\">\n",
       "      <th></th>\n",
       "      <th>HID</th>\n",
       "      <th>active_Red</th>\n",
       "      <th>has_Green_id</th>\n",
       "      <th>has_Black_id</th>\n",
       "      <th>has_Blue_id</th>\n",
       "      <th>Blue_activity_count</th>\n",
       "      <th>Blue_gmv_total</th>\n",
       "      <th>Green_gvm_total</th>\n",
       "      <th>Green_gvm_order_count</th>\n",
       "      <th>Black_gvm_total</th>\n",
       "      <th>...</th>\n",
       "      <th>Blue_android</th>\n",
       "      <th>Red_apple</th>\n",
       "      <th>Green_apple</th>\n",
       "      <th>Black_apple</th>\n",
       "      <th>Blue_apple</th>\n",
       "      <th>is_msk</th>\n",
       "      <th>Red_web</th>\n",
       "      <th>Green_web</th>\n",
       "      <th>Black_web</th>\n",
       "      <th>Blue_web</th>\n",
       "    </tr>\n",
       "  </thead>\n",
       "  <tbody>\n",
       "    <tr>\n",
       "      <th>1</th>\n",
       "      <td>00003c7fb5e57ce673f1801f3679f5c25</td>\n",
       "      <td>0.0</td>\n",
       "      <td>0.0</td>\n",
       "      <td>0.0</td>\n",
       "      <td>1.0</td>\n",
       "      <td>2.0</td>\n",
       "      <td>0.0</td>\n",
       "      <td>0.0</td>\n",
       "      <td>0.0</td>\n",
       "      <td>0.0</td>\n",
       "      <td>...</td>\n",
       "      <td>0.0</td>\n",
       "      <td>0.0</td>\n",
       "      <td>0.0</td>\n",
       "      <td>0.0</td>\n",
       "      <td>0.0</td>\n",
       "      <td>0.0</td>\n",
       "      <td>0.0</td>\n",
       "      <td>0.0</td>\n",
       "      <td>0.0</td>\n",
       "      <td>0.0</td>\n",
       "    </tr>\n",
       "    <tr>\n",
       "      <th>2</th>\n",
       "      <td>00006b602533083e3bebfcbff08613931</td>\n",
       "      <td>1.0</td>\n",
       "      <td>0.0</td>\n",
       "      <td>0.0</td>\n",
       "      <td>0.0</td>\n",
       "      <td>0.0</td>\n",
       "      <td>0.0</td>\n",
       "      <td>0.0</td>\n",
       "      <td>0.0</td>\n",
       "      <td>0.0</td>\n",
       "      <td>...</td>\n",
       "      <td>0.0</td>\n",
       "      <td>0.0</td>\n",
       "      <td>0.0</td>\n",
       "      <td>0.0</td>\n",
       "      <td>0.0</td>\n",
       "      <td>0.0</td>\n",
       "      <td>1.0</td>\n",
       "      <td>0.0</td>\n",
       "      <td>0.0</td>\n",
       "      <td>0.0</td>\n",
       "    </tr>\n",
       "    <tr>\n",
       "      <th>3</th>\n",
       "      <td>0000736c3f76339196cb1cc759b8363b</td>\n",
       "      <td>1.0</td>\n",
       "      <td>0.0</td>\n",
       "      <td>0.0</td>\n",
       "      <td>0.0</td>\n",
       "      <td>0.0</td>\n",
       "      <td>0.0</td>\n",
       "      <td>0.0</td>\n",
       "      <td>0.0</td>\n",
       "      <td>0.0</td>\n",
       "      <td>...</td>\n",
       "      <td>0.0</td>\n",
       "      <td>1.0</td>\n",
       "      <td>0.0</td>\n",
       "      <td>1.0</td>\n",
       "      <td>0.0</td>\n",
       "      <td>0.0</td>\n",
       "      <td>0.0</td>\n",
       "      <td>0.0</td>\n",
       "      <td>0.0</td>\n",
       "      <td>0.0</td>\n",
       "    </tr>\n",
       "    <tr>\n",
       "      <th>4</th>\n",
       "      <td>00009bdcc5307b38efde8690b8bd658e</td>\n",
       "      <td>0.0</td>\n",
       "      <td>0.0</td>\n",
       "      <td>0.0</td>\n",
       "      <td>0.0</td>\n",
       "      <td>0.0</td>\n",
       "      <td>0.0</td>\n",
       "      <td>0.0</td>\n",
       "      <td>0.0</td>\n",
       "      <td>0.0</td>\n",
       "      <td>...</td>\n",
       "      <td>0.0</td>\n",
       "      <td>0.0</td>\n",
       "      <td>0.0</td>\n",
       "      <td>0.0</td>\n",
       "      <td>0.0</td>\n",
       "      <td>0.0</td>\n",
       "      <td>1.0</td>\n",
       "      <td>0.0</td>\n",
       "      <td>0.0</td>\n",
       "      <td>0.0</td>\n",
       "    </tr>\n",
       "    <tr>\n",
       "      <th>5</th>\n",
       "      <td>0000bc3186b7b31d9b35d3fbbb250b9f8</td>\n",
       "      <td>1.0</td>\n",
       "      <td>0.0</td>\n",
       "      <td>0.0</td>\n",
       "      <td>0.0</td>\n",
       "      <td>0.0</td>\n",
       "      <td>0.0</td>\n",
       "      <td>0.0</td>\n",
       "      <td>0.0</td>\n",
       "      <td>0.0</td>\n",
       "      <td>...</td>\n",
       "      <td>0.0</td>\n",
       "      <td>1.0</td>\n",
       "      <td>0.0</td>\n",
       "      <td>0.0</td>\n",
       "      <td>0.0</td>\n",
       "      <td>0.0</td>\n",
       "      <td>0.0</td>\n",
       "      <td>0.0</td>\n",
       "      <td>0.0</td>\n",
       "      <td>0.0</td>\n",
       "    </tr>\n",
       "  </tbody>\n",
       "</table>\n",
       "<p>5 rows × 24 columns</p>\n",
       "</div>"
      ],
      "text/plain": [
       "                                 HID active_Red has_Green_id has_Black_id  \\\n",
       "1  00003c7fb5e57ce673f1801f3679f5c25        0.0          0.0          0.0   \n",
       "2  00006b602533083e3bebfcbff08613931        1.0          0.0          0.0   \n",
       "3   0000736c3f76339196cb1cc759b8363b        1.0          0.0          0.0   \n",
       "4   00009bdcc5307b38efde8690b8bd658e        0.0          0.0          0.0   \n",
       "5  0000bc3186b7b31d9b35d3fbbb250b9f8        1.0          0.0          0.0   \n",
       "\n",
       "  has_Blue_id Blue_activity_count Blue_gmv_total Green_gvm_total  \\\n",
       "1         1.0                 2.0            0.0             0.0   \n",
       "2         0.0                 0.0            0.0             0.0   \n",
       "3         0.0                 0.0            0.0             0.0   \n",
       "4         0.0                 0.0            0.0             0.0   \n",
       "5         0.0                 0.0            0.0             0.0   \n",
       "\n",
       "  Green_gvm_order_count Black_gvm_total  ... Blue_android Red_apple  \\\n",
       "1                   0.0             0.0  ...          0.0       0.0   \n",
       "2                   0.0             0.0  ...          0.0       0.0   \n",
       "3                   0.0             0.0  ...          0.0       1.0   \n",
       "4                   0.0             0.0  ...          0.0       0.0   \n",
       "5                   0.0             0.0  ...          0.0       1.0   \n",
       "\n",
       "  Green_apple Black_apple Blue_apple is_msk Red_web Green_web Black_web  \\\n",
       "1         0.0         0.0        0.0    0.0     0.0       0.0       0.0   \n",
       "2         0.0         0.0        0.0    0.0     1.0       0.0       0.0   \n",
       "3         0.0         1.0        0.0    0.0     0.0       0.0       0.0   \n",
       "4         0.0         0.0        0.0    0.0     1.0       0.0       0.0   \n",
       "5         0.0         0.0        0.0    0.0     0.0       0.0       0.0   \n",
       "\n",
       "  Blue_web  \n",
       "1      0.0  \n",
       "2      0.0  \n",
       "3      0.0  \n",
       "4      0.0  \n",
       "5      0.0  \n",
       "\n",
       "[5 rows x 24 columns]"
      ]
     },
     "execution_count": 255,
     "metadata": {},
     "output_type": "execute_result"
    }
   ],
   "source": [
    "df.head()"
   ]
  },
  {
   "cell_type": "markdown",
   "id": "5fe07cf0",
   "metadata": {},
   "source": [
    "## Shape of dataset"
   ]
  },
  {
   "cell_type": "code",
   "execution_count": 256,
   "id": "eba22e52",
   "metadata": {
    "scrolled": true
   },
   "outputs": [
    {
     "data": {
      "text/plain": [
       "(100000, 24)"
      ]
     },
     "execution_count": 256,
     "metadata": {},
     "output_type": "execute_result"
    }
   ],
   "source": [
    "df.shape"
   ]
  },
  {
   "cell_type": "markdown",
   "id": "9fae817d",
   "metadata": {},
   "source": [
    "## Check Nan values"
   ]
  },
  {
   "cell_type": "code",
   "execution_count": 257,
   "id": "6593a5f4",
   "metadata": {},
   "outputs": [
    {
     "data": {
      "text/plain": [
       "HID                      0\n",
       "active_Red               0\n",
       "has_Green_id             0\n",
       "has_Black_id             0\n",
       "has_Blue_id              0\n",
       "Blue_activity_count      0\n",
       "Blue_gmv_total           1\n",
       "Green_gvm_total          0\n",
       "Green_gvm_order_count    0\n",
       "Black_gvm_total          0\n",
       "Black_gvm_order_count    0\n",
       "Red_android              0\n",
       "Green_android            0\n",
       "Black_android            0\n",
       "Blue_android             0\n",
       "Red_apple                0\n",
       "Green_apple              0\n",
       "Black_apple              0\n",
       "Blue_apple               0\n",
       "is_msk                   0\n",
       "Red_web                  0\n",
       "Green_web                0\n",
       "Black_web                0\n",
       "Blue_web                 0\n",
       "dtype: int64"
      ]
     },
     "execution_count": 257,
     "metadata": {},
     "output_type": "execute_result"
    }
   ],
   "source": [
    "df.isna().sum()"
   ]
  },
  {
   "cell_type": "markdown",
   "id": "8659220c",
   "metadata": {},
   "source": [
    "#### Drop of 1 row won't affect the dataset much"
   ]
  },
  {
   "cell_type": "markdown",
   "id": "b4a97347",
   "metadata": {},
   "source": [
    "## Drop nan rows"
   ]
  },
  {
   "cell_type": "code",
   "execution_count": 258,
   "id": "cbd68abc",
   "metadata": {},
   "outputs": [],
   "source": [
    "df.dropna(inplace=True)"
   ]
  },
  {
   "cell_type": "markdown",
   "id": "6cef6df7",
   "metadata": {},
   "source": [
    "## Count registered users by company"
   ]
  },
  {
   "cell_type": "markdown",
   "id": "3d8df57d",
   "metadata": {},
   "source": [
    "### Firstly, convert type"
   ]
  },
  {
   "cell_type": "code",
   "execution_count": 259,
   "id": "15a576f4",
   "metadata": {},
   "outputs": [
    {
     "data": {
      "text/plain": [
       "HID                      object\n",
       "active_Red               object\n",
       "has_Green_id             object\n",
       "has_Black_id             object\n",
       "has_Blue_id              object\n",
       "Blue_activity_count      object\n",
       "Blue_gmv_total           object\n",
       "Green_gvm_total          object\n",
       "Green_gvm_order_count    object\n",
       "Black_gvm_total          object\n",
       "Black_gvm_order_count    object\n",
       "Red_android              object\n",
       "Green_android            object\n",
       "Black_android            object\n",
       "Blue_android             object\n",
       "Red_apple                object\n",
       "Green_apple              object\n",
       "Black_apple              object\n",
       "Blue_apple               object\n",
       "is_msk                   object\n",
       "Red_web                  object\n",
       "Green_web                object\n",
       "Black_web                object\n",
       "Blue_web                 object\n",
       "dtype: object"
      ]
     },
     "execution_count": 259,
     "metadata": {},
     "output_type": "execute_result"
    }
   ],
   "source": [
    "df.dtypes"
   ]
  },
  {
   "cell_type": "code",
   "execution_count": 260,
   "id": "9b8f206e",
   "metadata": {},
   "outputs": [],
   "source": [
    "df.rename(columns={'active_Red': 'has_Red_id'}, inplace=True)"
   ]
  },
  {
   "cell_type": "code",
   "execution_count": 261,
   "id": "50848a3f",
   "metadata": {},
   "outputs": [
    {
     "data": {
      "text/plain": [
       "Index(['has_Red_id', 'has_Green_id', 'has_Black_id', 'has_Blue_id'], dtype='object')"
      ]
     },
     "execution_count": 261,
     "metadata": {},
     "output_type": "execute_result"
    }
   ],
   "source": [
    "registarion_columns = df.columns[df.columns.str.contains('has_')]\n",
    "registarion_columns"
   ]
  },
  {
   "cell_type": "code",
   "execution_count": 262,
   "id": "87083e55",
   "metadata": {},
   "outputs": [],
   "source": [
    "df[registarion_columns] = df[registarion_columns].astype(float)\n",
    "df[registarion_columns] = df[registarion_columns].astype(int)"
   ]
  },
  {
   "cell_type": "markdown",
   "id": "ffc303a1",
   "metadata": {},
   "source": [
    "### Secondly, check outliers"
   ]
  },
  {
   "cell_type": "code",
   "execution_count": 263,
   "id": "226a0865",
   "metadata": {},
   "outputs": [],
   "source": [
    "def print_vc_by_company():\n",
    "    for column in registarion_columns:\n",
    "        print(df[column].value_counts())"
   ]
  },
  {
   "cell_type": "code",
   "execution_count": 264,
   "id": "76d6d8a6",
   "metadata": {},
   "outputs": [
    {
     "name": "stdout",
     "output_type": "stream",
     "text": [
      "1    55874\n",
      "0    44125\n",
      "Name: has_Red_id, dtype: int64\n",
      "0    99114\n",
      "1      881\n",
      "2        4\n",
      "Name: has_Green_id, dtype: int64\n",
      "0    98920\n",
      "1     1074\n",
      "2        5\n",
      "Name: has_Black_id, dtype: int64\n",
      "0    86734\n",
      "1    12749\n",
      "2      501\n",
      "3       13\n",
      "4        2\n",
      "Name: has_Blue_id, dtype: int64\n"
     ]
    }
   ],
   "source": [
    "print_vc_by_company()"
   ]
  },
  {
   "cell_type": "markdown",
   "id": "0082ea46",
   "metadata": {},
   "source": [
    "### Drop rows with id greater than 1"
   ]
  },
  {
   "cell_type": "code",
   "execution_count": 265,
   "id": "4af40c7b",
   "metadata": {},
   "outputs": [],
   "source": [
    "def drop_outlier_rows():\n",
    "    for column in registarion_columns:\n",
    "        outlier_rows = df[df[column] > 1]\n",
    "        df.drop(outlier_rows.index, inplace=True)"
   ]
  },
  {
   "cell_type": "code",
   "execution_count": 266,
   "id": "6f91da1d",
   "metadata": {},
   "outputs": [],
   "source": [
    "drop_outlier_rows()"
   ]
  },
  {
   "cell_type": "code",
   "execution_count": 267,
   "id": "e3cde170",
   "metadata": {},
   "outputs": [
    {
     "name": "stdout",
     "output_type": "stream",
     "text": [
      "1    55459\n",
      "0    44016\n",
      "Name: has_Red_id, dtype: int64\n",
      "0    98601\n",
      "1      874\n",
      "Name: has_Green_id, dtype: int64\n",
      "0    98410\n",
      "1     1065\n",
      "Name: has_Black_id, dtype: int64\n",
      "0    86729\n",
      "1    12746\n",
      "Name: has_Blue_id, dtype: int64\n"
     ]
    }
   ],
   "source": [
    "print_vc_by_company()"
   ]
  },
  {
   "cell_type": "markdown",
   "id": "a05f6c2f",
   "metadata": {},
   "source": [
    "### Calculation"
   ]
  },
  {
   "cell_type": "code",
   "execution_count": 281,
   "id": "efc7584c",
   "metadata": {},
   "outputs": [],
   "source": [
    "def count_registration():\n",
    "    data = {}\n",
    "    no_registarion = df\n",
    "    for column in registarion_columns:\n",
    "        data[column] = df[column].value_counts()[1]\n",
    "        no_registarion = no_registarion[no_registarion[column] == 0]\n",
    "    \n",
    "    data['no_registarion'] = no_registarion.shape[0]\n",
    "    return data, no_registarion"
   ]
  },
  {
   "cell_type": "markdown",
   "id": "52cdde4e",
   "metadata": {},
   "source": [
    "### Visualisation"
   ]
  },
  {
   "cell_type": "code",
   "execution_count": 282,
   "id": "05e7d2aa",
   "metadata": {},
   "outputs": [],
   "source": [
    "import matplotlib.pyplot as plt"
   ]
  },
  {
   "cell_type": "code",
   "execution_count": 284,
   "id": "71c90e17",
   "metadata": {},
   "outputs": [
    {
     "data": {
      "text/plain": [
       "{'has_Red_id': 55459,\n",
       " 'has_Green_id': 874,\n",
       " 'has_Black_id': 1065,\n",
       " 'has_Blue_id': 12746,\n",
       " 'no_registarion': 38354}"
      ]
     },
     "execution_count": 284,
     "metadata": {},
     "output_type": "execute_result"
    }
   ],
   "source": [
    "count_registarion_users, no_registarion = count_registration()\n",
    "count_registarion_users"
   ]
  },
  {
   "cell_type": "code",
   "execution_count": 285,
   "id": "c9ab4887",
   "metadata": {},
   "outputs": [],
   "source": [
    "company_registarion_users = pd.DataFrame(count_registarion_users.values(), index=count_registarion_users.keys(), \n",
    "                                    columns=['count_registarion_users'])"
   ]
  },
  {
   "cell_type": "code",
   "execution_count": 286,
   "id": "8cad3b93",
   "metadata": {},
   "outputs": [],
   "source": [
    "company_registarion_users.sort_values('count_registarion_users', ascending=False, inplace=True)"
   ]
  },
  {
   "cell_type": "code",
   "execution_count": 287,
   "id": "766ee264",
   "metadata": {},
   "outputs": [
    {
     "data": {
      "text/plain": [
       "Text(0.5, 1.0, 'Distribution of registation Users by a company ')"
      ]
     },
     "execution_count": 287,
     "metadata": {},
     "output_type": "execute_result"
    },
    {
     "data": {
      "image/png": "[encoded data removed]",
      "text/plain": [
       "<Figure size 600x600 with 1 Axes>"
      ]
     },
     "metadata": {},
     "output_type": "display_data"
    }
   ],
   "source": [
    "company_registarion_users.plot(kind=\"bar\", figsize = (6,6), fontsize = 8)\n",
    "plt.xlabel(\"Companies\", fontsize = 10)\n",
    "plt.ylabel(\"Registered Users\", fontsize = 10)\n",
    "plt.title(\"Distribution of registation Users by a company \", fontsize = 16)"
   ]
  },
  {
   "cell_type": "markdown",
   "id": "15c6698f",
   "metadata": {},
   "source": [
    "#### The most active users is in a company \"Red\", the least users is in a company \"Green\""
   ]
  },
  {
   "cell_type": "code",
   "execution_count": 288,
   "id": "59533e28",
   "metadata": {},
   "outputs": [
    {
     "name": "stdout",
     "output_type": "stream",
     "text": [
      "Percent of no registared users from all dataset 38.56%\n"
     ]
    }
   ],
   "source": [
    "percent_no_registarion = \\\n",
    "    company_registarion_users[company_registarion_users.index == 'no_registarion']['count_registarion_users'][0] / df.shape[0]\n",
    "print(\"Percent of no registared users from all dataset \" + \"{:.2f}%\".format(percent_no_registarion * 100))"
   ]
  },
  {
   "cell_type": "markdown",
   "id": "8b1a65f4",
   "metadata": {},
   "source": [
    "#### Drop rows with no active users and analyse only registered users"
   ]
  },
  {
   "cell_type": "code",
   "execution_count": 289,
   "id": "e178d339",
   "metadata": {},
   "outputs": [],
   "source": [
    "df.drop(no_registarion.index, inplace=True)"
   ]
  },
  {
   "cell_type": "code",
   "execution_count": 290,
   "id": "cd140ec4",
   "metadata": {},
   "outputs": [
    {
     "data": {
      "text/plain": [
       "(61121, 24)"
      ]
     },
     "execution_count": 290,
     "metadata": {},
     "output_type": "execute_result"
    }
   ],
   "source": [
    "df.shape"
   ]
  },
  {
   "cell_type": "markdown",
   "id": "e46c6d7a",
   "metadata": {},
   "source": [
    "## Analyse active users"
   ]
  },
  {
   "cell_type": "markdown",
   "id": "01f884be",
   "metadata": {},
   "source": [
    "### Convert types"
   ]
  },
  {
   "cell_type": "code",
   "execution_count": 341,
   "id": "2911f185",
   "metadata": {},
   "outputs": [
    {
     "data": {
      "text/plain": [
       "HID                      object\n",
       "has_Red_id                int32\n",
       "has_Green_id              int32\n",
       "has_Black_id              int32\n",
       "has_Blue_id               int32\n",
       "Blue_activity_count       int32\n",
       "Blue_gmv_total           object\n",
       "Green_gvm_total           int32\n",
       "Green_gvm_order_count     int32\n",
       "Black_gvm_total           int32\n",
       "Black_gvm_order_count     int32\n",
       "Red_android               int32\n",
       "Green_android             int32\n",
       "Black_android             int32\n",
       "Blue_android              int32\n",
       "Red_apple                 int32\n",
       "Green_apple               int32\n",
       "Black_apple               int32\n",
       "Blue_apple                int32\n",
       "is_msk                   object\n",
       "Red_web                   int32\n",
       "Green_web                 int32\n",
       "Black_web                 int32\n",
       "Blue_web                  int32\n",
       "dtype: object"
      ]
     },
     "execution_count": 341,
     "metadata": {},
     "output_type": "execute_result"
    }
   ],
   "source": [
    "df.dtypes"
   ]
  },
  {
   "cell_type": "code",
   "execution_count": 334,
   "id": "db11bc29",
   "metadata": {},
   "outputs": [],
   "source": [
    "def convert_type(data, regex):\n",
    "    columns = df.columns[df.columns.str.contains(regex)]\n",
    "    df[columns] = df[columns].astype(float)\n",
    "    df[columns] = df[columns].astype(int)"
   ]
  },
  {
   "cell_type": "code",
   "execution_count": 345,
   "id": "dc5661b6",
   "metadata": {},
   "outputs": [],
   "source": [
    "df.rename(columns={'Blue_gmv_total': 'Blue_gvm_total'}, inplace=True)"
   ]
  },
  {
   "cell_type": "code",
   "execution_count": 346,
   "id": "4c0c7db7",
   "metadata": {},
   "outputs": [],
   "source": [
    "convert_type(df, 'count|gvm|web|apple|android')"
   ]
  },
  {
   "cell_type": "code",
   "execution_count": 347,
   "id": "8a573f8a",
   "metadata": {},
   "outputs": [
    {
     "data": {
      "text/plain": [
       "HID                      object\n",
       "has_Red_id                int32\n",
       "has_Green_id              int32\n",
       "has_Black_id              int32\n",
       "has_Blue_id               int32\n",
       "Blue_activity_count       int32\n",
       "Blue_gvm_total            int32\n",
       "Green_gvm_total           int32\n",
       "Green_gvm_order_count     int32\n",
       "Black_gvm_total           int32\n",
       "Black_gvm_order_count     int32\n",
       "Red_android               int32\n",
       "Green_android             int32\n",
       "Black_android             int32\n",
       "Blue_android              int32\n",
       "Red_apple                 int32\n",
       "Green_apple               int32\n",
       "Black_apple               int32\n",
       "Blue_apple                int32\n",
       "is_msk                   object\n",
       "Red_web                   int32\n",
       "Green_web                 int32\n",
       "Black_web                 int32\n",
       "Blue_web                  int32\n",
       "dtype: object"
      ]
     },
     "execution_count": 347,
     "metadata": {},
     "output_type": "execute_result"
    }
   ],
   "source": [
    "df.dtypes"
   ]
  },
  {
   "cell_type": "markdown",
   "id": "ec3eea11",
   "metadata": {},
   "source": [
    "### Calculate active and inactive users by company"
   ]
  },
  {
   "cell_type": "code",
   "execution_count": 371,
   "id": "c8bed957",
   "metadata": {},
   "outputs": [],
   "source": [
    "def count_active_users():\n",
    "    data = {'company': ['Red', 'Black', 'Blue', 'Green'], 'active': [], 'no_active': []}\n",
    "    inactive_rows = pd.DataFrame()\n",
    "    \n",
    "    for column in data['company']: \n",
    "        company_columns = df.columns[df.columns.str.contains(column)]\n",
    "        company_reg_name = 'has_' + column + '_id'\n",
    "        \n",
    "        rows = df[df[company_reg_name] == 1]\n",
    "        all_users = rows.shape[0]\n",
    "        \n",
    "        for company_column in company_columns:\n",
    "            if company_column != company_reg_name:\n",
    "                rows = rows[rows[company_column] == 0]\n",
    "            \n",
    "        data['no_active'].append(rows.shape[0])\n",
    "        data['active'].append(all_users - rows.shape[0])\n",
    "        inactive_rows = pd.concat([inactive_rows, rows], ignore_index=True)\n",
    "    \n",
    "    return data, inactive_rows"
   ]
  },
  {
   "cell_type": "code",
   "execution_count": 372,
   "id": "5fb02f28",
   "metadata": {},
   "outputs": [],
   "source": [
    "users_activity, inactive_rows = count_active_users()"
   ]
  },
  {
   "cell_type": "code",
   "execution_count": 373,
   "id": "566268b8",
   "metadata": {},
   "outputs": [],
   "source": [
    "df_activity = pd.DataFrame(users_activity, index=users_activity['company'])"
   ]
  },
  {
   "cell_type": "code",
   "execution_count": 374,
   "id": "4ee76819",
   "metadata": {},
   "outputs": [],
   "source": [
    "df_activity.drop('company', axis=1, inplace=True) "
   ]
  },
  {
   "cell_type": "code",
   "execution_count": 375,
   "id": "d68da4b3",
   "metadata": {},
   "outputs": [
    {
     "data": {
      "text/html": [
       "<div>\n",
       "<style scoped>\n",
       "    .dataframe tbody tr th:only-of-type {\n",
       "        vertical-align: middle;\n",
       "    }\n",
       "\n",
       "    .dataframe tbody tr th {\n",
       "        vertical-align: top;\n",
       "    }\n",
       "\n",
       "    .dataframe thead th {\n",
       "        text-align: right;\n",
       "    }\n",
       "</style>\n",
       "<table border=\"1\" class=\"dataframe\">\n",
       "  <thead>\n",
       "    <tr style=\"text-align: right;\">\n",
       "      <th></th>\n",
       "      <th>active</th>\n",
       "      <th>no_active</th>\n",
       "    </tr>\n",
       "  </thead>\n",
       "  <tbody>\n",
       "    <tr>\n",
       "      <th>Red</th>\n",
       "      <td>51760</td>\n",
       "      <td>3699</td>\n",
       "    </tr>\n",
       "    <tr>\n",
       "      <th>Black</th>\n",
       "      <td>1065</td>\n",
       "      <td>0</td>\n",
       "    </tr>\n",
       "    <tr>\n",
       "      <th>Blue</th>\n",
       "      <td>7697</td>\n",
       "      <td>5049</td>\n",
       "    </tr>\n",
       "    <tr>\n",
       "      <th>Green</th>\n",
       "      <td>874</td>\n",
       "      <td>0</td>\n",
       "    </tr>\n",
       "  </tbody>\n",
       "</table>\n",
       "</div>"
      ],
      "text/plain": [
       "       active  no_active\n",
       "Red     51760       3699\n",
       "Black    1065          0\n",
       "Blue     7697       5049\n",
       "Green     874          0"
      ]
     },
     "execution_count": 375,
     "metadata": {},
     "output_type": "execute_result"
    }
   ],
   "source": [
    "df_activity"
   ]
  },
  {
   "cell_type": "markdown",
   "id": "41ef2a73",
   "metadata": {},
   "source": [
    "### V"
   ]
  },
  {
   "cell_type": "code",
   "execution_count": 370,
   "id": "d70515a4",
   "metadata": {},
   "outputs": [
    {
     "data": {
      "image/png": "[encoded data removed]",
      "text/plain": [
       "<Figure size 640x480 with 1 Axes>"
      ]
     },
     "metadata": {},
     "output_type": "display_data"
    }
   ],
   "source": [
    "ax = df_activity.plot.bar(rot=0)\n",
    "\n",
    "ax.set_xlabel('Company')\n",
    "ax.set_ylabel('Number of Users')\n",
    "ax.set_title('Active and Inactive Users by Company')\n",
    "\n",
    "plt.show()"
   ]
  },
  {
   "cell_type": "code",
   "execution_count": null,
   "id": "cb4c0cd1",
   "metadata": {},
   "outputs": [],
   "source": []
  }
 ],
 "metadata": {
  "kernelspec": {
   "display_name": "Python 3 (ipykernel)",
   "language": "python",
   "name": "python3"
  },
  "language_info": {
   "codemirror_mode": {
    "name": "ipython",
    "version": 3
   },
   "file_extension": ".py",
   "mimetype": "text/x-python",
   "name": "python",
   "nbconvert_exporter": "python",
   "pygments_lexer": "ipython3",
   "version": "3.9.13"
  }
 },
 "nbformat": 4,
 "nbformat_minor": 5
}
